{
 "cells": [
  {
   "cell_type": "code",
   "execution_count": null,
   "metadata": {},
   "outputs": [],
   "source": [
    "Source: https://www.hackerrank.com/"
   ]
  },
  {
   "cell_type": "markdown",
   "metadata": {},
   "source": [
    "### Problem 1\n",
    "\n",
    "**Input  a single integer**  \n",
    "\n",
    "**Output**  \n",
    "A row for each value 1 until the input integrer. Each row contains the following: Decimal, Octal, Hexadecimal(capitalized) , and Binary values.\n",
    "\n",
    "**Constraints**\n",
    "\n",
    "1. Each element contained in a row must equal the length of the binary value of the input number\n",
    "2. The hexadicimal values must be capitalized \n",
    "\n",
    "**Output Format**\n",
    "\n",
    "\n",
    "    1    1    1    1\n",
    "    2    2    2   10\n",
    "    3    3    3   11\n",
    "    4    4    4  100\n",
    "    5    5    5  101\n",
    "    6    6    6  110\n",
    "    7    7    7  111\n",
    "    8   10    8 1000\n",
    "    9   11    9 1001\n",
    "  "
   ]
  },
  {
   "cell_type": "code",
   "execution_count": 19,
   "metadata": {},
   "outputs": [],
   "source": [
    "def print_formatted(number):\n",
    "#calulate the pading width by calulating the length of the binary \n",
    "# and subtracting the length of the element that will go in the space\n",
    "# then create padding by multiplying that by a blank space \n",
    "  \n",
    "    def calcpad(rep): \n",
    "        pad = x - len(rep)+1\n",
    "        pad=pad * \" \" \n",
    "        return pad \n",
    "\n",
    "    def bina(n):\n",
    "        #The bin() function returns 0b...\n",
    "        #We want to slice the retrun value so we grab only the relevent part \n",
    "        #then we want to calculate the padding and add the padding string to our\n",
    "        #binary value string\n",
    "        rep = bin(n)[2:]\n",
    "        pad = calcpad(rep) \n",
    "        return pad + rep\n",
    "\n",
    "    def inta(n):\n",
    "        #We want to convert the integer value to a string then we want to calculate\n",
    "        #the padding and add the padding string to our\n",
    "        #binary value string\n",
    "        rep = str(n)\n",
    "        pad = calcpad(rep) \n",
    "        return pad + rep \n",
    "\n",
    "\n",
    "    def octa(n):\n",
    "        #The octa() function returns 0o... so we want to slice the retrun value \n",
    "        #so we grab only the relevent part  then we want to calculate\n",
    "        #the padding and add the padding string to our octal string\n",
    "        rep = oct(n)[2:]\n",
    "        pad = calcpad(rep) \n",
    "        return pad + rep \n",
    "\n",
    "\n",
    "    def hexa(n):\n",
    "        #The octa() function returns 0x... so we want to slice the retrun value \n",
    "        #so we grab only the relevent part then we want to calculate\n",
    "        #the padding and add the padding string to hex octal string\n",
    "        rep = hex(n)[2:].upper()\n",
    "        pad = calcpad(rep) \n",
    "        return pad + rep \n",
    "\n",
    "    k = int(number) #convert the input value to an integer \n",
    "    x = len(bin(k).lstrip(\"0b\")) #get length of the binary without the prefix\n",
    "\n",
    "    for i in range(1, k+1): #loop from 1 until the input number \n",
    "        r = [inta(i), octa(i), hexa(i), bina(i)] # call output functions and create a list with the output string\n",
    "        print(\"\".join(r)) #join list together to create a row"
   ]
  },
  {
   "cell_type": "code",
   "execution_count": 20,
   "metadata": {},
   "outputs": [
    {
     "name": "stdout",
     "output_type": "stream",
     "text": [
      "    1    1    1    1\n",
      "    2    2    2   10\n",
      "    3    3    3   11\n",
      "    4    4    4  100\n",
      "    5    5    5  101\n",
      "    6    6    6  110\n",
      "    7    7    7  111\n",
      "    8   10    8 1000\n",
      "    9   11    9 1001\n"
     ]
    }
   ],
   "source": [
    "print_formatted(9)"
   ]
  },
  {
   "cell_type": "code",
   "execution_count": null,
   "metadata": {},
   "outputs": [],
   "source": []
  },
  {
   "cell_type": "code",
   "execution_count": null,
   "metadata": {},
   "outputs": [],
   "source": []
  }
 ],
 "metadata": {
  "kernelspec": {
   "display_name": "Python 3",
   "language": "python",
   "name": "python3"
  },
  "language_info": {
   "codemirror_mode": {
    "name": "ipython",
    "version": 3
   },
   "file_extension": ".py",
   "mimetype": "text/x-python",
   "name": "python",
   "nbconvert_exporter": "python",
   "pygments_lexer": "ipython3",
   "version": "3.7.6"
  }
 },
 "nbformat": 4,
 "nbformat_minor": 4
}
